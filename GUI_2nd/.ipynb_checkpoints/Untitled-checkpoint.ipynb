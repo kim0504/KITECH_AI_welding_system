{
 "cells": [
  {
   "cell_type": "code",
   "execution_count": 1,
   "id": "2c828ef8",
   "metadata": {},
   "outputs": [
    {
     "name": "stdout",
     "output_type": "stream",
     "text": [
      "Collecting APScheduler\n",
      "  Using cached APScheduler-3.9.1.post1-py2.py3-none-any.whl (59 kB)\n",
      "Requirement already satisfied: setuptools>=0.7 in c:\\anaconda\\lib\\site-packages (from APScheduler) (58.0.4)\n",
      "Requirement already satisfied: six>=1.4.0 in c:\\anaconda\\lib\\site-packages (from APScheduler) (1.16.0)\n",
      "Collecting tzlocal!=3.*,>=2.0\n",
      "  Using cached tzlocal-4.2-py3-none-any.whl (19 kB)\n",
      "Requirement already satisfied: pytz in c:\\anaconda\\lib\\site-packages (from APScheduler) (2021.3)\n",
      "Collecting pytz-deprecation-shim\n",
      "  Using cached pytz_deprecation_shim-0.1.0.post0-py2.py3-none-any.whl (15 kB)\n",
      "Collecting tzdata\n",
      "  Using cached tzdata-2022.7-py2.py3-none-any.whl (340 kB)\n",
      "Installing collected packages: tzdata, pytz-deprecation-shim, tzlocal, APScheduler\n",
      "Successfully installed APScheduler-3.9.1.post1 pytz-deprecation-shim-0.1.0.post0 tzdata-2022.7 tzlocal-4.2\n",
      "Note: you may need to restart the kernel to use updated packages.\n"
     ]
    },
    {
     "name": "stderr",
     "output_type": "stream",
     "text": [
      "WARNING: Ignoring invalid distribution -pencv-python (c:\\anaconda\\lib\\site-packages)\n",
      "WARNING: Ignoring invalid distribution -pencv-python (c:\\anaconda\\lib\\site-packages)\n",
      "WARNING: Ignoring invalid distribution -pencv-python (c:\\anaconda\\lib\\site-packages)\n",
      "WARNING: Ignoring invalid distribution -pencv-python (c:\\anaconda\\lib\\site-packages)\n",
      "WARNING: Ignoring invalid distribution -pencv-python (c:\\anaconda\\lib\\site-packages)\n",
      "WARNING: Ignoring invalid distribution -pencv-python (c:\\anaconda\\lib\\site-packages)\n",
      "WARNING: Ignoring invalid distribution -pencv-python (c:\\anaconda\\lib\\site-packages)\n",
      "WARNING: Ignoring invalid distribution -pencv-python (c:\\anaconda\\lib\\site-packages)\n",
      "WARNING: Ignoring invalid distribution -pencv-python (c:\\anaconda\\lib\\site-packages)\n",
      "WARNING: Ignoring invalid distribution -pencv-python (c:\\anaconda\\lib\\site-packages)\n"
     ]
    }
   ],
   "source": [
    "pip install APScheduler"
   ]
  },
  {
   "cell_type": "code",
   "execution_count": 2,
   "id": "e34adf57",
   "metadata": {},
   "outputs": [],
   "source": [
    "import os\n",
    "import time\n",
    "from apscheduler.schedulers.background import BackgroundScheduler"
   ]
  },
  {
   "cell_type": "code",
   "execution_count": 5,
   "id": "dad0f61c",
   "metadata": {},
   "outputs": [],
   "source": [
    "class dir_info():\n",
    "    def __init__(self, file_path) -> None:\n",
    "        self._file_path = file_path\n",
    "        self._file_list = os.listdir(self._file_path)\n",
    "    \n",
    "    def dir_list(self):\n",
    "        printnt([os.listdir(self._file_path)])\n",
    "\n",
    "    def cur_dir_list(self):\n",
    "        print(self._file_list)\n",
    "\n",
    "    def update_dir_list(self):\n",
    "        self._file_list = os.listdir(self._file_path)\n",
    "        print(\"dir update\")\n",
    "        print(self._file_list)\n",
    "\n",
    "    def get_new_file(self):\n",
    "        print(\"current : \", os.listdir(self._file_path))\n",
    "        print(\"past : \", self._file_list)\n",
    "        print(\"new file : \",set(os.listdir(self._file_path)) - set(self._file_list))\n",
    "        return list(set(os.listdir(self._file_path)) - set(self._file_list))\n",
    "\n",
    "    def make_dir(self, file_name):\n",
    "        os.mkdir(\"\".join([PATH,'/',file_name]))\n",
    "\n",
    "    def remove_dir(self, file_name):\n",
    "        os.rmdir(\"\".join([PATH,'/',file_name]))\n",
    "\n",
    "    def job3(self):\n",
    "        print(f'{time.strftime(\"%H:%M:%S\")}')"
   ]
  },
  {
   "cell_type": "code",
   "execution_count": null,
   "id": "5e3e8c3f",
   "metadata": {},
   "outputs": [],
   "source": []
  }
 ],
 "metadata": {
  "kernelspec": {
   "display_name": "Python 3 (ipykernel)",
   "language": "python",
   "name": "python3"
  },
  "language_info": {
   "codemirror_mode": {
    "name": "ipython",
    "version": 3
   },
   "file_extension": ".py",
   "mimetype": "text/x-python",
   "name": "python",
   "nbconvert_exporter": "python",
   "pygments_lexer": "ipython3",
   "version": "3.9.7"
  }
 },
 "nbformat": 4,
 "nbformat_minor": 5
}
